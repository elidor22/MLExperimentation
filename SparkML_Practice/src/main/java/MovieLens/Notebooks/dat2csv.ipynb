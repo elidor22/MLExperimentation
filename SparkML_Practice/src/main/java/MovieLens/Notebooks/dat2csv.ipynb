{
 "metadata": {
  "language_info": {
   "codemirror_mode": {
    "name": "ipython",
    "version": 3
   },
   "file_extension": ".py",
   "mimetype": "text/x-python",
   "name": "python",
   "nbconvert_exporter": "python",
   "pygments_lexer": "ipython3",
   "version": "3.8.5"
  },
  "orig_nbformat": 2,
  "kernelspec": {
   "name": "python385jvsc74a57bd0617d3df361d1b679838275c792590c0e14578364ffbde2555e0629d1d838ba3c",
   "display_name": "Python 3.8.5  ('venv': venv)"
  },
  "metadata": {
   "interpreter": {
    "hash": "617d3df361d1b679838275c792590c0e14578364ffbde2555e0629d1d838ba3c"
   }
  }
 },
 "nbformat": 4,
 "nbformat_minor": 2,
 "cells": [
  {
   "cell_type": "code",
   "execution_count": 61,
   "metadata": {},
   "outputs": [
    {
     "output_type": "stream",
     "name": "stdout",
     "text": [
      "--2021-04-12 10:30:50--  https://files.grouplens.org/datasets/movielens/ml-1m.zip\n",
      "Resolving files.grouplens.org (files.grouplens.org)... 128.101.65.152\n",
      "Connecting to files.grouplens.org (files.grouplens.org)|128.101.65.152|:443... connected.\n",
      "WARNING: cannot verify files.grouplens.org's certificate, issued by ‘CN=InCommon RSA Server CA,OU=InCommon,O=Internet2,L=Ann Arbor,ST=MI,C=US’:\n",
      "  Unable to locally verify the issuer's authority.\n",
      "HTTP request sent, awaiting response... 200 OK\n",
      "Length: 5917549 (5,6M) [application/zip]\n",
      "Saving to: ‘ml-1m.zip’\n",
      "\n",
      "ml-1m.zip           100%[===================>]   5,64M  1,49MB/s    in 3,8s    \n",
      "\n",
      "2021-04-12 10:30:55 (1,49 MB/s) - ‘ml-1m.zip’ saved [5917549/5917549]\n",
      "\n"
     ]
    }
   ],
   "source": [
    "#Download the MovieLens 1m dataset\n",
    "\n",
    "!wget 'https://files.grouplens.org/datasets/movielens/ml-1m.zip' --no-check-certificate\n"
   ]
  },
  {
   "cell_type": "code",
   "execution_count": 62,
   "metadata": {},
   "outputs": [
    {
     "output_type": "stream",
     "name": "stdout",
     "text": [
      "Archive:  ml-1m.zip\n",
      "   creating: ml-1m/\n",
      "  inflating: ml-1m/movies.dat        \n",
      "  inflating: ml-1m/ratings.dat       \n",
      "  inflating: ml-1m/README            \n",
      "  inflating: ml-1m/users.dat         \n"
     ]
    }
   ],
   "source": [
    "#Unzip the data we just downloaded\n",
    "\n",
    "!unzip ml-1m.zip"
   ]
  },
  {
   "cell_type": "code",
   "execution_count": 63,
   "metadata": {},
   "outputs": [],
   "source": [
    "import pandas as pd"
   ]
  },
  {
   "cell_type": "code",
   "execution_count": 64,
   "metadata": {},
   "outputs": [
    {
     "output_type": "stream",
     "name": "stderr",
     "text": [
      "<ipython-input-64-b70d941c3684>:8: ParserWarning: Falling back to the 'python' engine because the 'c' engine does not support regex separators (separators > 1 char and different from '\\s+' are interpreted as regex); you can avoid this warning by specifying engine='python'.\n",
      "  users = pd.read_csv(pathu, sep='::', names=u_cols,\n",
      "<ipython-input-64-b70d941c3684>:12: ParserWarning: Falling back to the 'python' engine because the 'c' engine does not support regex separators (separators > 1 char and different from '\\s+' are interpreted as regex); you can avoid this warning by specifying engine='python'.\n",
      "  ratings = pd.read_csv(path, sep='::', names=r_cols,\n",
      "<ipython-input-64-b70d941c3684>:18: ParserWarning: Falling back to the 'python' engine because the 'c' engine does not support regex separators (separators > 1 char and different from '\\s+' are interpreted as regex); you can avoid this warning by specifying engine='python'.\n",
      "  movies = pd.read_csv(pathm, sep='::', names=m_cols, usecols=range(5),\n"
     ]
    },
    {
     "output_type": "execute_result",
     "data": {
      "text/plain": [
       "3883"
      ]
     },
     "metadata": {},
     "execution_count": 64
    }
   ],
   "source": [
    "path = 'ml-1m/ratings.dat'\n",
    "pathm = 'ml-1m/movies.dat'\n",
    "pathu = 'ml-1m/users.dat'\n",
    "\n",
    "\n",
    "# pass in column names for each CSV\n",
    "u_cols = ['user_id', 'gender', 'age', 'occupation', 'zip_code']\n",
    "users = pd.read_csv(pathu, sep='::', names=u_cols,\n",
    "                    encoding='latin-1')\n",
    "\n",
    "r_cols = ['user_id', 'movie_id', 'rating', 'timestamp']\n",
    "ratings = pd.read_csv(path, sep='::', names=r_cols,\n",
    "                      encoding='latin-1')\n",
    "\n",
    "\n",
    "m_cols = ['movie_id', 'title', 'genre']\n",
    "movies = pd.read_csv(pathm, sep='::', names=m_cols, usecols=range(5),\n",
    "                     encoding='latin-1')\n"
   ]
  },
  {
   "cell_type": "code",
   "execution_count": 65,
   "metadata": {},
   "outputs": [],
   "source": [
    "#Save dataframes to csv iteratively\n",
    "\n",
    "ls = [movies, users, ratings]\n",
    "csvNames = [\"movies.csv\",\"users.csv\", \"ratings.csv\" ]\n",
    "\n",
    "for i in range(len(ls)):\n",
    "    ls[i].to_csv(csvNames[i], index=False)"
   ]
  }
 ]
}